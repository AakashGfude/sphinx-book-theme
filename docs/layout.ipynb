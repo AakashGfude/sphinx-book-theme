{
 "cells": [
  {
   "cell_type": "markdown",
   "metadata": {},
   "source": [
    "# Page elements and configuration\n",
    "\n",
    "There are a number of ways to configure `sphinx-book-theme`. This page covers some of the main ways\n",
    "to do so. It also serves as a reference to make sure that visual elements look correct"
   ]
  },
  {
   "cell_type": "markdown",
   "metadata": {},
   "source": [
    "## Sidebar content\n",
    "\n",
    "You can also specify content that should exist in the sidebar. This content\n",
    "will be placed to the right, allowing it to exist separately from your main\n",
    "content. To add sidebar content, use this syntax:\n",
    "\n",
    "````\n",
    "```{sidebar} **My sidebar title**\n",
    "Here is my sidebar content, it is pretty cool!\n",
    "```\n",
    "````\n",
    "\n",
    "```{sidebar} **Here is my sidebar content**\n",
    "It is pretty cool!\n",
    "```\n",
    "\n",
    "### Adding content to sidebars\n",
    "\n",
    "Sidebar content can include all kinds of things, such as code blocks:\n",
    "\n",
    "````{sidebar} Code blocks in sidebars\n",
    "```python\n",
    "print(\"here is some python\")\n",
    "```\n",
    "````\n",
    "\n",
    "`````\n",
    "````{sidebar} Code blocks in sidebars\n",
    "```python\n",
    "print(\"here is some python\")\n",
    "```\n",
    "````\n",
    "`````\n",
    "\n",
    "as well as admonitions and images:\n",
    "\n",
    "````{sidebar} **Notes in sidebars**\n",
    "```{note}\n",
    "Wow, a note with an image in a sidebar!\n",
    "![](images/cool.jpg)\n",
    "```\n",
    "````\n",
    "\n",
    "`````\n",
    "````{sidebar} **Notes in sidebars**\n",
    "```{note}\n",
    "Wow, a note with an image in a sidebar!\n",
    "![](images/cool.jpg)\n",
    "```\n",
    "````\n",
    "`````\n",
    "\n",
    "## Full-width content\n",
    "\n",
    "```{note}\n",
    ":class: tag_fullwidth\n",
    "This is my test\n",
    "```\n",
    "\n",
    "Let's see what happens"
   ]
  },
  {
   "cell_type": "markdown",
   "metadata": {},
   "source": [
    "## Quotations and epigraphs\n",
    "\n",
    "Here is what quotations and epigraphs look like in `sphinx-book-theme`:\n",
    "\n",
    "A quote with no attribution:\n",
    "\n",
    "> Here's my quote, it's pretty neat.\n",
    "> I wonder how many lines I can create with\n",
    "> a single stream-of-consciousness quote.\n",
    "> I could try to add a list of ideas to talk about.\n",
    "> I suppose I could just keep going on forever,\n",
    "> but I'll stop here."
   ]
  },
  {
   "cell_type": "markdown",
   "metadata": {
    "tags": [
     "epigraph"
    ]
   },
   "source": [
    "Sometimes you'd like to draw more attention to a quote. To do so, use the `{epigraph}` directive.\n",
    "Below is an epigraph, click the button to the right of it to show the code that was used\n",
    "to generate it:\n",
    "\n",
    "```{epigraph}\n",
    "Here's my quote, it's pretty neat.\n",
    "I wonder how many lines I can create with\n",
    "a single stream-of-consciousness quote.\n",
    "I could try to add a list of ideas to talk about.\n",
    "I suppose I could just keep going on forever,\n",
    "but I'll stop here.\n",
    "```\n",
    "\n",
    "`````{toggle}\n",
    "````\n",
    "```{epigraph}\n",
    "Here's my quote, it's pretty neat.\n",
    "I wonder how many lines I can create with\n",
    "a single stream-of-consciousness quote.\n",
    "I could try to add a list of ideas to talk about.\n",
    "I suppose I could just keep going on forever,\n",
    "but I'll stop here.\n",
    "```\n",
    "````\n",
    "`````\n",
    "\n",
    "You can also add an attribution to epigraphs by adding a blank line,\n",
    "followed by a line that starts with `--`. This will be renderered like so:\n",
    "\n",
    "```{epigraph}\n",
    "Here's my quote, it's pretty neat.\n",
    "I wonder how many lines I can create with\n",
    "a single stream-of-consciousness quote.\n",
    "I could try to add a list of ideas to talk about.\n",
    "I suppose I could just keep going on forever,\n",
    "but I'll stop here.\n",
    "\n",
    "-- Jo the Jovyan, *[the jupyter book docs](https://beta.jupyterbook.org)*\n",
    "```\n",
    "\n",
    "`````{toggle}\n",
    "````\n",
    "```{epigraph}\n",
    "Here's my quote, it's pretty neat.\n",
    "I wonder how many lines I can create with\n",
    "a single stream-of-consciousness quote.\n",
    "I could try to add a list of ideas to talk about.\n",
    "I suppose I could just keep going on forever,\n",
    "but I'll stop here.\n",
    "\n",
    "-- Jo the Jovyan\n",
    "```\n",
    "````\n",
    "`````"
   ]
  },
  {
   "cell_type": "code",
   "execution_count": null,
   "metadata": {},
   "outputs": [],
   "source": []
  }
 ],
 "metadata": {
  "kernelspec": {
   "display_name": "Python 3",
   "language": "python",
   "name": "python3"
  },
  "language_info": {
   "codemirror_mode": {
    "name": "ipython",
    "version": 3
   },
   "file_extension": ".py",
   "mimetype": "text/x-python",
   "name": "python",
   "nbconvert_exporter": "python",
   "pygments_lexer": "ipython3",
   "version": "3.8.0"
  },
  "widgets": {
   "application/vnd.jupyter.widget-state+json": {
    "state": {},
    "version_major": 2,
    "version_minor": 0
   }
  }
 },
 "nbformat": 4,
 "nbformat_minor": 4
}
